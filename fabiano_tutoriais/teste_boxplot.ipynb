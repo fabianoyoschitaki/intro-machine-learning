{
 "cells": [
  {
   "cell_type": "code",
   "execution_count": 32,
   "metadata": {
    "collapsed": true
   },
   "outputs": [],
   "source": [
    "import numpy as np\n",
    "import matplotlib.pyplot as plt\n",
    "from scipy.stats import variation"
   ]
  },
  {
   "cell_type": "code",
   "execution_count": 33,
   "metadata": {
    "collapsed": true
   },
   "outputs": [],
   "source": [
    "p = np.array([6,6,5,5])\n",
    "m = np.array([9,5,3,6,8,6,4])\n",
    "g = np.array([8,4,8,4])"
   ]
  },
  {
   "cell_type": "code",
   "execution_count": 34,
   "metadata": {},
   "outputs": [
    {
     "name": "stdout",
     "output_type": "stream",
     "text": [
      "mean: 5.5 5.85714285714 6.0\n"
     ]
    }
   ],
   "source": [
    "mP = np.mean(p)\n",
    "mM = np.mean(m)\n",
    "mG = np.mean(g)\n",
    "print \"mean:\",mP,mM,mG"
   ]
  },
  {
   "cell_type": "code",
   "execution_count": 35,
   "metadata": {},
   "outputs": [
    {
     "name": "stdout",
     "output_type": "stream",
     "text": [
      "median: 5.5 6.0 6.0\n"
     ]
    }
   ],
   "source": [
    "mmP = np.median(p)\n",
    "mmM = np.median(m)\n",
    "mmG = np.median(g)\n",
    "print \"median:\",mmP,mmM,mmG"
   ]
  },
  {
   "cell_type": "code",
   "execution_count": 36,
   "metadata": {},
   "outputs": [
    {
     "name": "stdout",
     "output_type": "stream",
     "text": [
      "var: 0.25 3.83673469388 4.0\n"
     ]
    }
   ],
   "source": [
    "vP = np.var(p)\n",
    "vM = np.var(m)\n",
    "vG = np.var(g)\n",
    "print \"var:\",vP,vM,vG"
   ]
  },
  {
   "cell_type": "code",
   "execution_count": 37,
   "metadata": {},
   "outputs": [
    {
     "name": "stdout",
     "output_type": "stream",
     "text": [
      "std: 0.5 1.95875845726 2.0\n"
     ]
    }
   ],
   "source": [
    "sdP = np.std(p)\n",
    "sdM = np.std(m)\n",
    "sdG = np.std(g)\n",
    "print \"std:\",sdP,sdM,sdG"
   ]
  },
  {
   "cell_type": "code",
   "execution_count": 38,
   "metadata": {},
   "outputs": [
    {
     "name": "stdout",
     "output_type": "stream",
     "text": [
      "variation: 0.0909090909091 0.334422175629 0.333333333333\n"
     ]
    }
   ],
   "source": [
    "cvP = variation(p, axis=0)\n",
    "cvM = variation(m, axis=0)\n",
    "cvG = variation(g, axis=0)\n",
    "print \"variation:\",cvP,cvM,cvG"
   ]
  },
  {
   "cell_type": "code",
   "execution_count": 42,
   "metadata": {},
   "outputs": [
    {
     "data": {
      "image/png": "[encoded data removed]",
      "text/plain": [
       "<matplotlib.figure.Figure at 0xa7e74a8>"
      ]
     },
     "metadata": {},
     "output_type": "display_data"
    }
   ],
   "source": [
    "plt.boxplot(p)\n",
    "plt.show()"
   ]
  },
  {
   "cell_type": "code",
   "execution_count": null,
   "metadata": {
    "collapsed": true
   },
   "outputs": [],
   "source": []
  }
 ],
 "metadata": {
  "kernelspec": {
   "display_name": "Python 2",
   "language": "python",
   "name": "python2"
  },
  "language_info": {
   "codemirror_mode": {
    "name": "ipython",
    "version": 2
   },
   "file_extension": ".py",
   "mimetype": "text/x-python",
   "name": "python",
   "nbconvert_exporter": "python",
   "pygments_lexer": "ipython2",
   "version": "2.7.14"
  }
 },
 "nbformat": 4,
 "nbformat_minor": 2
}
